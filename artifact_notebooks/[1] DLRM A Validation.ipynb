{
 "cells": [
  {
   "cell_type": "markdown",
   "id": "a02c5bc7-bd24-466a-8c62-b4f364d739af",
   "metadata": {},
   "source": [
    "## Imports"
   ]
  },
  {
   "cell_type": "code",
   "execution_count": 1,
   "id": "c41073a3-7526-461d-b964-e8e798ab3cf3",
   "metadata": {},
   "outputs": [],
   "source": [
    "import os"
   ]
  },
  {
   "cell_type": "markdown",
   "id": "677e7a7e-3c92-4393-9dcf-7c6f67b8776e",
   "metadata": {},
   "source": [
    "## Run 128-GPU ZionEX Validation Breakdown"
   ]
  },
  {
   "cell_type": "code",
   "execution_count": 2,
   "id": "bbbd3283-8813-4ed2-900c-66c257d55d16",
   "metadata": {},
   "outputs": [
    {
     "name": "stdout",
     "output_type": "stream",
     "text": [
      "**************************************************\n",
      "Model Name: DLRM_A\n",
      "Parameters: 801.17 B (0.04% dense, 99.96% sparse).\n",
      "Size: 1602.98 GB (1.28 GB dense, 1601.70 GB sparse).\n",
      "FLOPs: 638.08 MFLOPs (31.90 MFLOPs per MLP layer) per sample.\n",
      "Lookup Bytes: 11.55 MB per sample.\n",
      "**************************************************\n",
      "**************************************************\n",
      "System Name: ZionEX-128\n",
      "16 nodes with 8 devices each\n",
      "Effective FLOPs:\n",
      "\tFP64: 6.84 TFLOPS per device / 0.88 PFLOPS system-wide\n",
      "\tFP/TF32: 109.98 TFLOPS per device / 14.08 PFLOPS system-wide\n",
      "\tFP/BF16: 219.96 TFLOPS per device / 28.15 PFLOPS system-wide\n",
      "\tINT8: 439.92 TOPS per device / 56.31 POPS system-wide\n",
      "Memory:\n",
      "\tCapacity: 40.00 GB per device / 5.12 TB system-wide\n",
      "\tBandwidth: 1555.00 GB/s per device / 199.04 TB/s system-wide\n",
      "Effective Unidirectional BW per GPU:\n",
      "\tIntra-Node: 200.01 GB/s\n",
      "\tInter-Node: 7.00 GB/s\n",
      "Effective Communication Collectives BW:\n",
      "\tAll to All: 7.00 GB/s\n",
      "\tAll Reduce: 60.00 GB/s\n",
      "\tAll Gather: 120.00 GB/s\n",
      "\tReduce Scatter: 120.00 GB/s\n",
      "**************************************************\n",
      "**************************************************\n",
      "Task Type: pretrain\n",
      "Task Memory Usage:\n",
      "\tModel Weights: 13.79 (1.28 MLP, 12.51 EMB) GB per device.\n",
      "Task FLOPs:\n",
      "\tMLP Layer FLOPs per local batch: 0.02 TFLOPs.\n",
      "\tMLP Layer FLOPs per global batch: 2.09 TFLOPs.\n",
      "\tModel FLOPs per local batch: 0.33 TFLOPs.\n",
      "\tModel FLOPs per global batch: 41.82 TFLOPs.\n",
      "Task Lookup Bytes:\n",
      "\tLookup bytes per local batch: 756.99 GB\n",
      "\tLookup bytes per global batch: 756.99 GB\n",
      "\tLookup bytes per device (per global batch): 5.91 GB\n",
      "**************************************************\n",
      "**************************************************\n",
      "Aggregate Compute Times [ms]:\n",
      "\tGEMM: 8.91\n",
      "\tEMB: 9.10\n",
      "Aggregate Communication Times [ms]:\n",
      "\tAll-to-All: 26.40\n",
      "\tAllReduce: 21.27\n",
      "\tAllGather: 0.00\n",
      "\tReduceScatter: 0.00\n",
      "Communication Overlap Breakdown [ms]:\n",
      "\tExposed Communication: 35.99 (75.50 %)\n",
      "\tOverlapped Communication: 11.68 (24.50 %)\n",
      "Task Iteration Time [ms]: 54.00\n",
      "Task Throughput: 1.21 MQPS\n",
      "**************************************************\n"
     ]
    },
    {
     "data": {
      "text/plain": [
       "0"
      ]
     },
     "execution_count": 2,
     "metadata": {},
     "output_type": "execute_result"
    }
   ],
   "source": [
    "model_cfg_file = 'model_cfgs/dlrm/dlrm_a.json'\n",
    "task_cfg_file = \"task_cfgs/val/dlrm_train_val_128.json\"\n",
    "system_cfg_file = \"system_cfgs/zionex/zionex_128.json\"\n",
    "\n",
    "os.system('python ../run_model.py --model-cfg-file \\'../{}\\' --system-cfg-file \\'../{}\\' --task-cfg-file \\'../{}\\''.format(\n",
    "                model_cfg_file, system_cfg_file, task_cfg_file))"
   ]
  },
  {
   "cell_type": "markdown",
   "id": "347ad4f5-739c-4edb-a8ae-e9b59579a95c",
   "metadata": {},
   "source": [
    "## Run 8-GPU ZionEX Validation Breakdown"
   ]
  },
  {
   "cell_type": "code",
   "execution_count": 3,
   "id": "e481a26b-993e-42da-bdfb-25449fb56487",
   "metadata": {},
   "outputs": [
    {
     "name": "stdout",
     "output_type": "stream",
     "text": [
      "**************************************************\n",
      "Model Name: DLRM_A\n",
      "Parameters: 801.17 B (0.04% dense, 99.96% sparse).\n",
      "Size: 1602.98 GB (1.28 GB dense, 1601.70 GB sparse).\n",
      "FLOPs: 638.08 MFLOPs (31.90 MFLOPs per MLP layer) per sample.\n",
      "Lookup Bytes: 11.55 MB per sample.\n",
      "**************************************************\n",
      "**************************************************\n",
      "System Name: ZionEX-8\n",
      "1 nodes with 8 devices each\n",
      "Effective FLOPs:\n",
      "\tFP64: 6.84 TFLOPS per device / 0.05 PFLOPS system-wide\n",
      "\tFP/TF32: 109.98 TFLOPS per device / 0.88 PFLOPS system-wide\n",
      "\tFP/BF16: 219.96 TFLOPS per device / 1.76 PFLOPS system-wide\n",
      "\tINT8: 439.92 TOPS per device / 3.52 POPS system-wide\n",
      "Memory:\n",
      "\tCapacity: 40.00 GB per device / 0.32 TB system-wide\n",
      "\tBandwidth: 1555.00 GB/s per device / 12.44 TB/s system-wide\n",
      "Effective Unidirectional BW per GPU:\n",
      "\tIntra-Node: 200.01 GB/s\n",
      "\tInter-Node: 7.00 GB/s\n",
      "Effective Communication Collectives BW:\n",
      "\tAll to All: 200.01 GB/s\n",
      "\tAll Reduce: 200.01 GB/s\n",
      "\tAll Gather: 400.02 GB/s\n",
      "\tReduce Scatter: 400.02 GB/s\n",
      "**************************************************\n",
      "**************************************************\n",
      "Task Type: pretrain\n",
      "Task Memory Usage:\n",
      "\tModel Weights: 201.49 (1.28 MLP, 200.21 EMB) GB per device.\n",
      "Task FLOPs:\n",
      "\tMLP Layer FLOPs per local batch: 0.02 TFLOPs.\n",
      "\tMLP Layer FLOPs per global batch: 0.13 TFLOPs.\n",
      "\tModel FLOPs per local batch: 0.33 TFLOPs.\n",
      "\tModel FLOPs per global batch: 2.61 TFLOPs.\n",
      "Task Lookup Bytes:\n",
      "\tLookup bytes per local batch: 47.31 GB\n",
      "\tLookup bytes per global batch: 47.31 GB\n",
      "\tLookup bytes per device (per global batch): 5.91 GB\n",
      "**************************************************\n",
      "**************************************************\n",
      "Aggregate Compute Times [ms]:\n",
      "\tGEMM: 8.91\n",
      "\tEMB: 9.10\n",
      "Aggregate Communication Times [ms]:\n",
      "\tAll-to-All: 14.78\n",
      "\tAllReduce: 6.38\n",
      "\tAllGather: 0.00\n",
      "\tReduceScatter: 0.00\n",
      "Communication Overlap Breakdown [ms]:\n",
      "\tExposed Communication: 10.85 (51.24 %)\n",
      "\tOverlapped Communication: 10.32 (48.76 %)\n",
      "Task Iteration Time [ms]: 28.86\n",
      "Task Throughput: 0.14 MQPS\n",
      "**************************************************\n"
     ]
    },
    {
     "data": {
      "text/plain": [
       "0"
      ]
     },
     "execution_count": 3,
     "metadata": {},
     "output_type": "execute_result"
    }
   ],
   "source": [
    "model_cfg_file = 'model_cfgs/dlrm/dlrm_a.json'\n",
    "task_cfg_file = \"task_cfgs/val/dlrm_train_val_8.json\"\n",
    "system_cfg_file = \"system_cfgs/zionex/zionex_8.json\"\n",
    "\n",
    "os.system('python ../run_model.py --model-cfg-file \\'../{}\\' --system-cfg-file \\'../{}\\' --task-cfg-file \\'../{}\\''.format(\n",
    "                model_cfg_file, system_cfg_file, task_cfg_file))"
   ]
  },
  {
   "cell_type": "markdown",
   "id": "8850ed6c-2594-4aec-a2db-b785ce090e5b",
   "metadata": {},
   "source": [
    "For each of the printed breakdown results, the corresponding results in `Aggregate Compute Times[ms]:`, `Aggregate Communication Times [ms]:`, `Communication Overlap Breakdown [ms]:` are used for plotting Figure 7 in the paper."
   ]
  }
 ],
 "metadata": {
  "kernelspec": {
   "display_name": "Python 3 (ipykernel)",
   "language": "python",
   "name": "python3"
  },
  "language_info": {
   "codemirror_mode": {
    "name": "ipython",
    "version": 3
   },
   "file_extension": ".py",
   "mimetype": "text/x-python",
   "name": "python",
   "nbconvert_exporter": "python",
   "pygments_lexer": "ipython3",
   "version": "3.10.4"
  }
 },
 "nbformat": 4,
 "nbformat_minor": 5
}
